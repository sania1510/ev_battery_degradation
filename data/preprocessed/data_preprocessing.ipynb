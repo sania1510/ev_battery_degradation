{
 "cells": [
  {
   "cell_type": "code",
   "execution_count": 1,
   "id": "305977ae",
   "metadata": {},
   "outputs": [],
   "source": [
    "import pandas as pd\n",
    "import sys  \n",
    "import numpy as np"
   ]
  },
  {
   "cell_type": "code",
   "execution_count": 29,
   "id": "dfec9ee4",
   "metadata": {},
   "outputs": [
    {
     "name": "stdout",
     "output_type": "stream",
     "text": [
      "   total_distance_km  average_trip_speed_kmph  ambient_temperature_C  \\\n",
      "0               0.37                     0.37                   0.73   \n",
      "1               0.95                     0.33                   0.18   \n",
      "2               0.73                     0.18                   0.35   \n",
      "3               0.60                     0.61                   0.66   \n",
      "4               0.16                     0.48                   0.48   \n",
      "\n",
      "   trip_duration_min  charging_cycles  fast_charging_ratio_%  \\\n",
      "0               0.64             0.30                   0.23   \n",
      "1               0.46             0.86                   0.58   \n",
      "2               0.96             0.66                   0.39   \n",
      "3               0.22             0.53                   0.47   \n",
      "4               0.59             0.09                   0.02   \n",
      "\n",
      "   average_battery_temperature_C  battery_health_%  \n",
      "0                           0.51              0.55  \n",
      "1                           0.06              0.00  \n",
      "2                           0.62              0.08  \n",
      "3                           0.70              0.32  \n",
      "4                           0.32              0.78  \n"
     ]
    }
   ],
   "source": [
    "file_path= r\"E:\\EV battery classifaication forcasting\\data\\raw\\ev_battery_health_data.csv\"\n",
    "\n",
    "def preprocess_data(file_path):\n",
    "    try:\n",
    "        data = pd.read_csv(file_path)\n",
    "        if data.isnull().values.any():\n",
    "            print(\"Missing values found. Filling with mean.\")\n",
    "            data.fillna(data.mean(), inplace=True)\n",
    "        data = (data - data.min()) / (data.max() - data.min())\n",
    "        data = data.round(2)\n",
    "    \n",
    "        preprocessed_file_path = r\"E:\\EV battery classifaication forcasting\\data\\preprocessed\\ev_battery_health_preprocessed.csv\"\n",
    "        data.to_csv(preprocessed_file_path, index=False)\n",
    "        \n",
    "        #print(f\"Data preprocessed and saved to {preprocessed_file_path}\")\n",
    "        print(data.head())\n",
    "    except Exception as e:\n",
    "        print(f\"An error occurred: {e}\")\n",
    "preprocess_data(file_path)\n",
    "    "
   ]
  },
  {
   "cell_type": "code",
   "execution_count": null,
   "id": "fb465c9c",
   "metadata": {},
   "outputs": [
    {
     "name": "stdout",
     "output_type": "stream",
     "text": [
      "             DateTime  Junction  Vehicles           ID\n",
      "0 2015-11-01 00:00:00         1        15  20151101001\n",
      "1 2015-11-01 01:00:00         1        13  20151101011\n",
      "2 2015-11-01 02:00:00         1        10  20151101021\n",
      "3 2015-11-01 03:00:00         1         7  20151101031\n",
      "4 2015-11-01 04:00:00         1         9  20151101041\n"
     ]
    }
   ],
   "source": [
    "file_path = r\"E:\\EV battery classifaication forcasting\\data\\raw\\traffic.csv\"\n",
    "\n",
    "def preprocess_data(file_path):\n",
    "    try:\n",
    "        data = pd.read_csv(file_path)\n",
    "        data['DateTime'] = pd.to_datetime(data['DateTime'])\n",
    "        data['Junction'] = pd.to_numeric(data['Junction'], errors='coerce')\n",
    "        data['Vehicles'] = pd.to_numeric(data['Vehicles'], errors='coerce')\n",
    "        data['ID'] = pd.to_numeric(data['ID'], errors='coerce')\n",
    "        if data.isnull().values.any():\n",
    "            print(\"Missing values found. Filling with mean.\")\n",
    "            data.fillna(data.mean(numeric_only=True), inplace=True)\n",
    "        numeric_cols = ['Junction', 'Vehicles', 'ID']\n",
    "        # data[numeric_cols] = (data[numeric_cols] - data[numeric_cols].min()) / (data[numeric_cols].max() - data[numeric_cols].min())\n",
    "        data[numeric_cols] = data[numeric_cols].round(2)\n",
    "        preprocessed_file_path = r\"E:\\EV battery classifaication forcasting\\data\\preprocessed\\traffic_preprocessed.csv\"\n",
    "        data.to_csv(preprocessed_file_path, index=False)\n",
    "        \n",
    "        print(data.head())\n",
    "    except Exception as e:\n",
    "        print(f\"An error occurred: {e}\")\n",
    "\n",
    "preprocess_data(file_path)"
   ]
  },
  {
   "cell_type": "code",
   "execution_count": 30,
   "id": "d0bfa768",
   "metadata": {},
   "outputs": [
    {
     "name": "stdout",
     "output_type": "stream",
     "text": [
      "Missing values found. Filling with mean.\n",
      "        Formatted Date  Temperature (C)  Apparent Temperature (C)  Humidity  \\\n",
      "0  2006/03/31 22:00:00             0.51                      0.52      0.89   \n",
      "1  2006/03/31 23:00:00             0.51                      0.52      0.86   \n",
      "2  2006/04/01 00:00:00             0.51                      0.55      0.89   \n",
      "3  2006/04/01 01:00:00             0.49                      0.50      0.83   \n",
      "4  2006/04/01 02:00:00             0.50                      0.52      0.83   \n",
      "\n",
      "   Wind Speed (km/h)  Wind Bearing (degrees)  Visibility (km)  \\\n",
      "0               0.22                    0.70             0.98   \n",
      "1               0.22                    0.72             0.98   \n",
      "2               0.06                    0.57             0.93   \n",
      "3               0.22                    0.75             0.98   \n",
      "4               0.17                    0.72             0.98   \n",
      "\n",
      "   Pressure (millibars)  \n",
      "0                  0.97  \n",
      "1                  0.97  \n",
      "2                  0.97  \n",
      "3                  0.97  \n",
      "4                  0.97  \n"
     ]
    }
   ],
   "source": [
    "from dateutil import parser\n",
    "\n",
    "file_path = r\"E:\\EV battery classifaication forcasting\\data\\raw\\weatherHistory.csv\"\n",
    "def preprocess_data(file_path):\n",
    "    try:\n",
    "        data = pd.read_csv(file_path)\n",
    "        data['Formatted Date'] = pd.to_datetime(\n",
    "            data['Formatted Date'], errors='coerce', utc=True\n",
    "        )\n",
    "        \n",
    "        data.dropna(subset=['Formatted Date'], inplace=True)\n",
    "        data['Formatted Date'] = data['Formatted Date'].dt.strftime('%Y/%m/%d %H:%M:%S')\n",
    "        numeric_cols = [\n",
    "            'Temperature (C)', 'Apparent Temperature (C)', 'Humidity',\n",
    "            'Wind Speed (km/h)', 'Wind Bearing (degrees)', 'Visibility (km)',\n",
    "            'Pressure (millibars)'\n",
    "        ]\n",
    "        for col in numeric_cols:\n",
    "            data[col] = pd.to_numeric(data[col], errors='coerce')\n",
    "        \n",
    "        if data.isnull().values.any():\n",
    "            print(\"Missing values found. Filling with mean.\")\n",
    "            data.fillna(data.mean(numeric_only=True), inplace=True)\n",
    "        data[numeric_cols] = (data[numeric_cols] - data[numeric_cols].min()) / (data[numeric_cols].max() - data[numeric_cols].min())\n",
    "        data[numeric_cols] = data[numeric_cols].round(2)\n",
    "        preprocessed_file_path = r\"E:\\EV battery classifaication forcasting\\data\\preprocessed\\weatherHistory_preprocessed.csv\"\n",
    "        data.to_csv(preprocessed_file_path, index=False)\n",
    "        print(data[['Formatted Date'] + numeric_cols].head())\n",
    "    except Exception as e:\n",
    "        print(f\"An error occurred: {e}\")\n",
    "preprocess_data(file_path)"
   ]
  }
 ],
 "metadata": {
  "kernelspec": {
   "display_name": "Python 3",
   "language": "python",
   "name": "python3"
  },
  "language_info": {
   "codemirror_mode": {
    "name": "ipython",
    "version": 3
   },
   "file_extension": ".py",
   "mimetype": "text/x-python",
   "name": "python",
   "nbconvert_exporter": "python",
   "pygments_lexer": "ipython3",
   "version": "3.13.6"
  }
 },
 "nbformat": 4,
 "nbformat_minor": 5
}
